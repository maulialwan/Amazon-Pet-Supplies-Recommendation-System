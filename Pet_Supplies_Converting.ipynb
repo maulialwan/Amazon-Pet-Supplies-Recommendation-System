{
 "cells": [
  {
   "cell_type": "markdown",
   "source": [
    "***\r\n",
    "# $\\mathbf{\\text{Amazon Pet Supplies Dataset}}$<br>\r\n",
    "***\r\n"
   ],
   "metadata": {}
  },
  {
   "cell_type": "markdown",
   "source": [
    "# Converting data from txt to dataframe"
   ],
   "metadata": {}
  },
  {
   "cell_type": "markdown",
   "source": [
    "### Data was taken from http://snap.stanford.edu/data/web-Amazon-links.html\r\n",
    "\r\n",
    "### This dataset consists of reviews from Amazon and spans roughly 13 years, from April 2000 to March 2013. Reviews include product and user information, ratings, and a plaintext review.\r\n",
    "\r\n",
    "### The goal of this step is to convert the txt into csv format for easier analysis and model building."
   ],
   "metadata": {}
  },
  {
   "cell_type": "code",
   "execution_count": 1,
   "source": [
    "# Import libraries\r\n",
    "import gzip\r\n",
    "import pandas as pd"
   ],
   "outputs": [],
   "metadata": {}
  },
  {
   "cell_type": "code",
   "execution_count": 14,
   "source": [
    "# Read and strip the data\r\n",
    "data = []\r\n",
    "with open('Pet_Supplies.txt') as file:\r\n",
    "    for i in file:\r\n",
    "        data.append(i.strip())"
   ],
   "outputs": [],
   "metadata": {}
  },
  {
   "cell_type": "code",
   "execution_count": 18,
   "source": [
    "# Check the current format output of the data\r\n",
    "data[:20]"
   ],
   "outputs": [
    {
     "output_type": "execute_result",
     "data": {
      "text/plain": [
       "['product/productId: B000O1CRYW',\n",
       " 'product/title: Orbee Tuff Ball Orange - SMALL',\n",
       " 'product/price: 6.95',\n",
       " 'review/userId: A2FEQ9XL6ML51C',\n",
       " 'review/profileName: Just an everyday Dad',\n",
       " 'review/helpfulness: 1/1',\n",
       " 'review/score: 5.0',\n",
       " 'review/time: 1286064000',\n",
       " 'review/summary: Little Ball, for Little Dogs...',\n",
       " 'review/text: Great Toy, hard to find! We get ours online here or shipped from a friend in America!Our little Papillion-Yorkie mix loves it. Every night I am in the back garden kicking the ball for him! He destroys tennis balls by chewing off the fluff and our wee dog finds them to big to carry/catch. We stumbled across this in our local petstore and our dog was hooked! Sadly, local pet store no longer imports them.Stars all around for this one!',\n",
       " '',\n",
       " 'product/productId: B000O1CRYW',\n",
       " 'product/title: Orbee Tuff Ball Orange - SMALL',\n",
       " 'product/price: 6.95',\n",
       " 'review/userId: A183LI95B2WNUQ',\n",
       " 'review/profileName: V. J. Mcmillen \"vmcmillen\"',\n",
       " 'review/helpfulness: 1/1',\n",
       " 'review/score: 5.0',\n",
       " 'review/time: 1230249600',\n",
       " 'review/summary: glow ball']"
      ]
     },
     "metadata": {},
     "execution_count": 18
    }
   ],
   "metadata": {}
  },
  {
   "cell_type": "code",
   "execution_count": 16,
   "source": [
    "# Filtering the data by removing the empties ''\r\n",
    "filter_data = filter(lambda x: x != \"\", data)\r\n",
    "\r\n",
    "filter_data = list(filter_data)"
   ],
   "outputs": [],
   "metadata": {}
  },
  {
   "cell_type": "code",
   "execution_count": 17,
   "source": [
    "# Showing filtering results\r\n",
    "filter_data[:20]"
   ],
   "outputs": [
    {
     "output_type": "execute_result",
     "data": {
      "text/plain": [
       "['product/productId: B000O1CRYW',\n",
       " 'product/title: Orbee Tuff Ball Orange - SMALL',\n",
       " 'product/price: 6.95',\n",
       " 'review/userId: A2FEQ9XL6ML51C',\n",
       " 'review/profileName: Just an everyday Dad',\n",
       " 'review/helpfulness: 1/1',\n",
       " 'review/score: 5.0',\n",
       " 'review/time: 1286064000',\n",
       " 'review/summary: Little Ball, for Little Dogs...',\n",
       " 'review/text: Great Toy, hard to find! We get ours online here or shipped from a friend in America!Our little Papillion-Yorkie mix loves it. Every night I am in the back garden kicking the ball for him! He destroys tennis balls by chewing off the fluff and our wee dog finds them to big to carry/catch. We stumbled across this in our local petstore and our dog was hooked! Sadly, local pet store no longer imports them.Stars all around for this one!']"
      ]
     },
     "metadata": {},
     "execution_count": 17
    }
   ],
   "metadata": {}
  },
  {
   "cell_type": "code",
   "execution_count": null,
   "source": [
    "# Splitting each of lines \r\n",
    "dic = {i.split(':')[0]:[] for i in filter_data}\r\n",
    "\r\n",
    "for l in filter_data:\r\n",
    "    dic[l.split(':')[0]].append(l.split(':')[1])"
   ],
   "outputs": [],
   "metadata": {}
  },
  {
   "cell_type": "code",
   "execution_count": null,
   "source": [
    "# Create a dataframe\r\n",
    "df = pd.DataFrame.from_dict(dic)\r\n",
    "df.head()"
   ],
   "outputs": [
    {
     "output_type": "execute_result",
     "data": {
      "text/plain": [
       "  product/productId                                product/title  \\\n",
       "0        B000O1CRYW               Orbee Tuff Ball Orange - SMALL   \n",
       "1        B000O1CRYW               Orbee Tuff Ball Orange - SMALL   \n",
       "2        B000O1CRYW               Orbee Tuff Ball Orange - SMALL   \n",
       "3        B000O1CRYW               Orbee Tuff Ball Orange - SMALL   \n",
       "4        B0002ARHAE   Kent Marine Pro-Clear Freshwater Clarifier   \n",
       "\n",
       "  product/price    review/userId           review/profileName  \\\n",
       "0          6.95   A2FEQ9XL6ML51C         Just an everyday Dad   \n",
       "1          6.95   A183LI95B2WNUQ   V. J. Mcmillen \"vmcmillen\"   \n",
       "2          6.95   A1LSSENM0XIQQR                   gcoronado4   \n",
       "3          6.95   A2E5PZE1PZVK38                        jerry   \n",
       "4          3.73   A3PXLJE4OPIQTY      M. Thomas \"sea_anemone\"   \n",
       "\n",
       "  review/helpfulness review/score  review/time  \\\n",
       "0                1/1          5.0   1286064000   \n",
       "1                1/1          5.0   1230249600   \n",
       "2                0/0          3.0   1309046400   \n",
       "3                0/0          5.0   1308873600   \n",
       "4                0/0          5.0   1356912000   \n",
       "\n",
       "                     review/summary  \\\n",
       "0   Little Ball, for Little Dogs...   \n",
       "1                         glow ball   \n",
       "2                           Too Big   \n",
       "3                           no good   \n",
       "4               Best clarifier ever   \n",
       "\n",
       "                                         review/text  \n",
       "0   Great Toy, hard to find! We get ours online h...  \n",
       "1   I have bought several of these small Orbee Tu...  \n",
       "2   It is a quality ball but the small is still t...  \n",
       "3   I gave it 5 stars because my little dog had s...  \n",
       "4   I've used many products to try and help the w...  "
      ],
      "text/html": [
       "<div>\n",
       "<style scoped>\n",
       "    .dataframe tbody tr th:only-of-type {\n",
       "        vertical-align: middle;\n",
       "    }\n",
       "\n",
       "    .dataframe tbody tr th {\n",
       "        vertical-align: top;\n",
       "    }\n",
       "\n",
       "    .dataframe thead th {\n",
       "        text-align: right;\n",
       "    }\n",
       "</style>\n",
       "<table border=\"1\" class=\"dataframe\">\n",
       "  <thead>\n",
       "    <tr style=\"text-align: right;\">\n",
       "      <th></th>\n",
       "      <th>product/productId</th>\n",
       "      <th>product/title</th>\n",
       "      <th>product/price</th>\n",
       "      <th>review/userId</th>\n",
       "      <th>review/profileName</th>\n",
       "      <th>review/helpfulness</th>\n",
       "      <th>review/score</th>\n",
       "      <th>review/time</th>\n",
       "      <th>review/summary</th>\n",
       "      <th>review/text</th>\n",
       "    </tr>\n",
       "  </thead>\n",
       "  <tbody>\n",
       "    <tr>\n",
       "      <th>0</th>\n",
       "      <td>B000O1CRYW</td>\n",
       "      <td>Orbee Tuff Ball Orange - SMALL</td>\n",
       "      <td>6.95</td>\n",
       "      <td>A2FEQ9XL6ML51C</td>\n",
       "      <td>Just an everyday Dad</td>\n",
       "      <td>1/1</td>\n",
       "      <td>5.0</td>\n",
       "      <td>1286064000</td>\n",
       "      <td>Little Ball, for Little Dogs...</td>\n",
       "      <td>Great Toy, hard to find! We get ours online h...</td>\n",
       "    </tr>\n",
       "    <tr>\n",
       "      <th>1</th>\n",
       "      <td>B000O1CRYW</td>\n",
       "      <td>Orbee Tuff Ball Orange - SMALL</td>\n",
       "      <td>6.95</td>\n",
       "      <td>A183LI95B2WNUQ</td>\n",
       "      <td>V. J. Mcmillen \"vmcmillen\"</td>\n",
       "      <td>1/1</td>\n",
       "      <td>5.0</td>\n",
       "      <td>1230249600</td>\n",
       "      <td>glow ball</td>\n",
       "      <td>I have bought several of these small Orbee Tu...</td>\n",
       "    </tr>\n",
       "    <tr>\n",
       "      <th>2</th>\n",
       "      <td>B000O1CRYW</td>\n",
       "      <td>Orbee Tuff Ball Orange - SMALL</td>\n",
       "      <td>6.95</td>\n",
       "      <td>A1LSSENM0XIQQR</td>\n",
       "      <td>gcoronado4</td>\n",
       "      <td>0/0</td>\n",
       "      <td>3.0</td>\n",
       "      <td>1309046400</td>\n",
       "      <td>Too Big</td>\n",
       "      <td>It is a quality ball but the small is still t...</td>\n",
       "    </tr>\n",
       "    <tr>\n",
       "      <th>3</th>\n",
       "      <td>B000O1CRYW</td>\n",
       "      <td>Orbee Tuff Ball Orange - SMALL</td>\n",
       "      <td>6.95</td>\n",
       "      <td>A2E5PZE1PZVK38</td>\n",
       "      <td>jerry</td>\n",
       "      <td>0/0</td>\n",
       "      <td>5.0</td>\n",
       "      <td>1308873600</td>\n",
       "      <td>no good</td>\n",
       "      <td>I gave it 5 stars because my little dog had s...</td>\n",
       "    </tr>\n",
       "    <tr>\n",
       "      <th>4</th>\n",
       "      <td>B0002ARHAE</td>\n",
       "      <td>Kent Marine Pro-Clear Freshwater Clarifier</td>\n",
       "      <td>3.73</td>\n",
       "      <td>A3PXLJE4OPIQTY</td>\n",
       "      <td>M. Thomas \"sea_anemone\"</td>\n",
       "      <td>0/0</td>\n",
       "      <td>5.0</td>\n",
       "      <td>1356912000</td>\n",
       "      <td>Best clarifier ever</td>\n",
       "      <td>I've used many products to try and help the w...</td>\n",
       "    </tr>\n",
       "  </tbody>\n",
       "</table>\n",
       "</div>"
      ]
     },
     "metadata": {},
     "execution_count": 56
    }
   ],
   "metadata": {}
  },
  {
   "cell_type": "code",
   "execution_count": null,
   "source": [
    "# Taking the text after '/' for columns name\r\n",
    "for i in df.columns:\r\n",
    "    df[i] = df[i].apply(str.strip)\r\n",
    "    \r\n",
    "dic = {}\r\n",
    "\r\n",
    "for i in df.columns:\r\n",
    "    dic[i] = i.split('/')[1]"
   ],
   "outputs": [],
   "metadata": {}
  },
  {
   "cell_type": "code",
   "execution_count": null,
   "source": [
    "# Rename columns with splitting result\r\n",
    "df.rename(columns=dic, inplace=True)"
   ],
   "outputs": [],
   "metadata": {}
  },
  {
   "cell_type": "code",
   "execution_count": null,
   "source": [
    "df.head()"
   ],
   "outputs": [
    {
     "output_type": "execute_result",
     "data": {
      "text/plain": [
       "     productId                                        title  price  \\\n",
       "0   B000O1CRYW               Orbee Tuff Ball Orange - SMALL   6.95   \n",
       "1   B000O1CRYW               Orbee Tuff Ball Orange - SMALL   6.95   \n",
       "2   B000O1CRYW               Orbee Tuff Ball Orange - SMALL   6.95   \n",
       "3   B000O1CRYW               Orbee Tuff Ball Orange - SMALL   6.95   \n",
       "4   B0002ARHAE   Kent Marine Pro-Clear Freshwater Clarifier   3.73   \n",
       "\n",
       "            userId                  profileName helpfulness score  \\\n",
       "0   A2FEQ9XL6ML51C         Just an everyday Dad         1/1   5.0   \n",
       "1   A183LI95B2WNUQ   V. J. Mcmillen \"vmcmillen\"         1/1   5.0   \n",
       "2   A1LSSENM0XIQQR                   gcoronado4         0/0   3.0   \n",
       "3   A2E5PZE1PZVK38                        jerry         0/0   5.0   \n",
       "4   A3PXLJE4OPIQTY      M. Thomas \"sea_anemone\"         0/0   5.0   \n",
       "\n",
       "          time                           summary  \\\n",
       "0   1286064000   Little Ball, for Little Dogs...   \n",
       "1   1230249600                         glow ball   \n",
       "2   1309046400                           Too Big   \n",
       "3   1308873600                           no good   \n",
       "4   1356912000               Best clarifier ever   \n",
       "\n",
       "                                                text  \n",
       "0   Great Toy, hard to find! We get ours online h...  \n",
       "1   I have bought several of these small Orbee Tu...  \n",
       "2   It is a quality ball but the small is still t...  \n",
       "3   I gave it 5 stars because my little dog had s...  \n",
       "4   I've used many products to try and help the w...  "
      ],
      "text/html": [
       "<div>\n",
       "<style scoped>\n",
       "    .dataframe tbody tr th:only-of-type {\n",
       "        vertical-align: middle;\n",
       "    }\n",
       "\n",
       "    .dataframe tbody tr th {\n",
       "        vertical-align: top;\n",
       "    }\n",
       "\n",
       "    .dataframe thead th {\n",
       "        text-align: right;\n",
       "    }\n",
       "</style>\n",
       "<table border=\"1\" class=\"dataframe\">\n",
       "  <thead>\n",
       "    <tr style=\"text-align: right;\">\n",
       "      <th></th>\n",
       "      <th>productId</th>\n",
       "      <th>title</th>\n",
       "      <th>price</th>\n",
       "      <th>userId</th>\n",
       "      <th>profileName</th>\n",
       "      <th>helpfulness</th>\n",
       "      <th>score</th>\n",
       "      <th>time</th>\n",
       "      <th>summary</th>\n",
       "      <th>text</th>\n",
       "    </tr>\n",
       "  </thead>\n",
       "  <tbody>\n",
       "    <tr>\n",
       "      <th>0</th>\n",
       "      <td>B000O1CRYW</td>\n",
       "      <td>Orbee Tuff Ball Orange - SMALL</td>\n",
       "      <td>6.95</td>\n",
       "      <td>A2FEQ9XL6ML51C</td>\n",
       "      <td>Just an everyday Dad</td>\n",
       "      <td>1/1</td>\n",
       "      <td>5.0</td>\n",
       "      <td>1286064000</td>\n",
       "      <td>Little Ball, for Little Dogs...</td>\n",
       "      <td>Great Toy, hard to find! We get ours online h...</td>\n",
       "    </tr>\n",
       "    <tr>\n",
       "      <th>1</th>\n",
       "      <td>B000O1CRYW</td>\n",
       "      <td>Orbee Tuff Ball Orange - SMALL</td>\n",
       "      <td>6.95</td>\n",
       "      <td>A183LI95B2WNUQ</td>\n",
       "      <td>V. J. Mcmillen \"vmcmillen\"</td>\n",
       "      <td>1/1</td>\n",
       "      <td>5.0</td>\n",
       "      <td>1230249600</td>\n",
       "      <td>glow ball</td>\n",
       "      <td>I have bought several of these small Orbee Tu...</td>\n",
       "    </tr>\n",
       "    <tr>\n",
       "      <th>2</th>\n",
       "      <td>B000O1CRYW</td>\n",
       "      <td>Orbee Tuff Ball Orange - SMALL</td>\n",
       "      <td>6.95</td>\n",
       "      <td>A1LSSENM0XIQQR</td>\n",
       "      <td>gcoronado4</td>\n",
       "      <td>0/0</td>\n",
       "      <td>3.0</td>\n",
       "      <td>1309046400</td>\n",
       "      <td>Too Big</td>\n",
       "      <td>It is a quality ball but the small is still t...</td>\n",
       "    </tr>\n",
       "    <tr>\n",
       "      <th>3</th>\n",
       "      <td>B000O1CRYW</td>\n",
       "      <td>Orbee Tuff Ball Orange - SMALL</td>\n",
       "      <td>6.95</td>\n",
       "      <td>A2E5PZE1PZVK38</td>\n",
       "      <td>jerry</td>\n",
       "      <td>0/0</td>\n",
       "      <td>5.0</td>\n",
       "      <td>1308873600</td>\n",
       "      <td>no good</td>\n",
       "      <td>I gave it 5 stars because my little dog had s...</td>\n",
       "    </tr>\n",
       "    <tr>\n",
       "      <th>4</th>\n",
       "      <td>B0002ARHAE</td>\n",
       "      <td>Kent Marine Pro-Clear Freshwater Clarifier</td>\n",
       "      <td>3.73</td>\n",
       "      <td>A3PXLJE4OPIQTY</td>\n",
       "      <td>M. Thomas \"sea_anemone\"</td>\n",
       "      <td>0/0</td>\n",
       "      <td>5.0</td>\n",
       "      <td>1356912000</td>\n",
       "      <td>Best clarifier ever</td>\n",
       "      <td>I've used many products to try and help the w...</td>\n",
       "    </tr>\n",
       "  </tbody>\n",
       "</table>\n",
       "</div>"
      ]
     },
     "metadata": {},
     "execution_count": 61
    }
   ],
   "metadata": {}
  },
  {
   "cell_type": "code",
   "execution_count": null,
   "source": [
    "# Check dataset info\r\n",
    "df.info()"
   ],
   "outputs": [
    {
     "output_type": "stream",
     "name": "stdout",
     "text": [
      "<class 'pandas.core.frame.DataFrame'>\n",
      "RangeIndex: 217170 entries, 0 to 217169\n",
      "Data columns (total 10 columns):\n",
      " #   Column       Non-Null Count   Dtype \n",
      "---  ------       --------------   ----- \n",
      " 0   productId    217170 non-null  object\n",
      " 1   title        217170 non-null  object\n",
      " 2   price        217170 non-null  object\n",
      " 3   userId       217170 non-null  object\n",
      " 4   profileName  217170 non-null  object\n",
      " 5   helpfulness  217170 non-null  object\n",
      " 6   score        217170 non-null  object\n",
      " 7   time         217170 non-null  object\n",
      " 8   summary      217170 non-null  object\n",
      " 9   text         217170 non-null  object\n",
      "dtypes: object(10)\n",
      "memory usage: 16.6+ MB\n"
     ]
    }
   ],
   "metadata": {}
  },
  {
   "cell_type": "code",
   "execution_count": null,
   "source": [
    "# Save file to csv\r\n",
    "df.to_csv('Pet_Supplies.csv', index=None)"
   ],
   "outputs": [],
   "metadata": {}
  }
 ],
 "metadata": {
  "orig_nbformat": 4,
  "language_info": {
   "name": "python",
   "version": "3.8.3",
   "mimetype": "text/x-python",
   "codemirror_mode": {
    "name": "ipython",
    "version": 3
   },
   "pygments_lexer": "ipython3",
   "nbconvert_exporter": "python",
   "file_extension": ".py"
  },
  "kernelspec": {
   "name": "python3",
   "display_name": "Python 3.8.3 64-bit ('base': conda)"
  },
  "interpreter": {
   "hash": "95a19bb7a135a8107af75b765dc097fafc28c1115c0f9727f05dc637904e7be8"
  }
 },
 "nbformat": 4,
 "nbformat_minor": 2
}